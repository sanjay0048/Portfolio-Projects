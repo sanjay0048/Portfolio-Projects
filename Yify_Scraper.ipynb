{
 "cells": [
  {
   "cell_type": "code",
   "execution_count": 1,
   "metadata": {},
   "outputs": [],
   "source": [
    "from bs4 import BeautifulSoup\n",
    "import requests\n",
    "import pandas as pd\n",
    "import numpy as np\n",
    "import os"
   ]
  },
  {
   "cell_type": "code",
   "execution_count": 60,
   "metadata": {},
   "outputs": [],
   "source": [
    "pages=np.arange(1,4,1)\n",
    "pwd = os.getcwd()\n",
    "\n",
    "def get_names():\n",
    "    global yify\n",
    "    yify = pd.DataFrame (columns = ['Title', 'Year'])\n",
    "    for page in pages:\n",
    "        page='https://yts.mx/browse-movies?page='+str(page)\n",
    "        data=requests.get(page).text\n",
    "        soup = BeautifulSoup(data,'html.parser')\n",
    "        for row in soup.find_all('div', class_ = 'browse-movie-bottom'):\n",
    "            title=row.find('a', class_ = 'browse-movie-title').text.strip()\n",
    "            years=row.find('div', class_ = 'browse-movie-year').text.strip()\n",
    "            yify=yify.append({'Title': title, 'Year':years},ignore_index=True)\n"
   ]
  },
  {
   "cell_type": "code",
   "execution_count": 65,
   "metadata": {},
   "outputs": [
    {
     "data": {
      "text/plain": [
       "(60, 2)"
      ]
     },
     "execution_count": 65,
     "metadata": {},
     "output_type": "execute_result"
    }
   ],
   "source": [
    "get_names()\n",
    "output = yify.copy()\n",
    "output.to_excel('Yify_Scrapper.xlsx', index = False)\n",
    "output.shape"
   ]
  }
 ],
 "metadata": {
  "kernelspec": {
   "display_name": "Python 3.10.4 64-bit",
   "language": "python",
   "name": "python3"
  },
  "language_info": {
   "codemirror_mode": {
    "name": "ipython",
    "version": 3
   },
   "file_extension": ".py",
   "mimetype": "text/x-python",
   "name": "python",
   "nbconvert_exporter": "python",
   "pygments_lexer": "ipython3",
   "version": "3.10.4"
  },
  "orig_nbformat": 4,
  "vscode": {
   "interpreter": {
    "hash": "7ef8d2267904c9c96126d6e0cfab664e41f291f1029705d64b653fa75f88cbc8"
   }
  }
 },
 "nbformat": 4,
 "nbformat_minor": 2
}
