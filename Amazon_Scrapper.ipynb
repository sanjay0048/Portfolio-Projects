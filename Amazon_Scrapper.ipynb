{
 "cells": [
  {
   "cell_type": "code",
   "execution_count": 19,
   "id": "e5c6729b-f0ea-4c7d-bb66-5ae429d21c5f",
   "metadata": {},
   "outputs": [
    {
     "name": "stdout",
     "output_type": "stream",
     "text": [
      "Drill Brush 3 Ways Multifunction Power Brush Cleaner Scrubbing Brushes Household Cleaning Tool for Bathroom Surface, Multicolor, SSZ254\n",
      "17\n",
      "   \n"
     ]
    }
   ],
   "source": [
    "from bs4 import BeautifulSoup\n",
    "import requests\n",
    "import time\n",
    "import datetime\n",
    "import smtplib  #for sending automatic emails\n",
    "\n",
    "URL= 'https://www.amazon.ae/gp/product/B07SRXDRRT/ref=ox_sc_act_title_1?smid=A1OJRCOTYUARH8&psc=1'\n",
    "headers={\"User-Agent\": \"Mozilla/5.0 (Windows NT 10.0; Win64; x64) AppleWebKit/537.36 (KHTML, like Gecko) Chrome/103.0.0.0 Safari/537.36\"}\n",
    "\n",
    "page=requests.get(URL, headers=headers)\n",
    "\n",
    "soup1=BeautifulSoup(page.content,'html.parser')\n",
    "soup2=BeautifulSoup(soup1.prettify(),'html.parser')\n",
    "\n",
    "title=soup2.find(id=\"productTitle\").get_text()\n",
    "price=soup2.find(class_='a-price-whole').get_text()\n",
    "\n",
    "title=title.strip()\n",
    "price=price.strip()[0:6]\n",
    "\n",
    "print(title)\n",
    "print(price)\n"
   ]
  },
  {
   "cell_type": "code",
   "execution_count": null,
   "id": "49c04779-4590-425a-ae23-e09a4e2199fe",
   "metadata": {},
   "outputs": [],
   "source": [
    "import datetime\n",
    "today=datetime.date.today()\n",
    "print(today)"
   ]
  },
  {
   "cell_type": "code",
   "execution_count": 23,
   "id": "dda34c7b-9b50-4171-a4a3-8739266efc70",
   "metadata": {},
   "outputs": [],
   "source": [
    "import csv\n",
    "\n",
    "header=['Title','Price','Date']\n",
    "data=[title,price,today]\n",
    "\n",
    "with open('Amazon_Webscrapper.csv','w',newline='',encoding='UTF8') as f:\n",
    "    writer=csv.writer(f)\n",
    "    writer.writerow(header)\n",
    "    writer.writerow(data)\n",
    "    \n",
    "        \n",
    "    "
   ]
  },
  {
   "cell_type": "code",
   "execution_count": 35,
   "id": "4c739cb7-6782-4252-9b94-a3267b06b309",
   "metadata": {},
   "outputs": [
    {
     "name": "stdout",
     "output_type": "stream",
     "text": [
      "                                               Title  Price        Date\n",
      "0  Drill Brush 3 Ways Multifunction Power Brush C...     17  2022-07-13\n",
      "1  Drill Brush 3 Ways Multifunction Power Brush C...     17  2022-07-13\n",
      "2  Drill Brush 3 Ways Multifunction Power Brush C...     17  2022-07-13\n",
      "3  Drill Brush 3 Ways Multifunction Power Brush C...     17  2022-07-13\n",
      "4  Drill Brush 3 Ways Multifunction Power Brush C...     17  2022-07-13\n",
      "5  Drill Brush 3 Ways Multifunction Power Brush C...     17  2022-07-13\n",
      "6  Drill Brush 3 Ways Multifunction Power Brush C...     17  2022-07-13\n"
     ]
    }
   ],
   "source": [
    "import pandas as pd\n",
    "df=pd.read_csv(r'C:\\Users\\sanja\\Amazon_Webscrapper.csv')\n",
    "print(df)"
   ]
  },
  {
   "cell_type": "code",
   "execution_count": 26,
   "id": "769430f0-0e60-4b26-9776-e4186e0b8538",
   "metadata": {},
   "outputs": [],
   "source": [
    "with open('Amazon_Webscrapper.csv','a+',newline='',encoding='UTF8') as f:\n",
    "    writer=csv.writer(f)\n",
    "    writer.writerow(data)"
   ]
  },
  {
   "cell_type": "code",
   "execution_count": 29,
   "id": "457c248f-4d6c-48de-9668-3f6dc5283278",
   "metadata": {},
   "outputs": [],
   "source": [
    "def check_price():\n",
    "    URL= 'https://www.amazon.ae/gp/product/B07SRXDRRT/ref=ox_sc_act_title_1?smid=A1OJRCOTYUARH8&psc=1'\n",
    "    headers={\"User-Agent\": \"Mozilla/5.0 (Windows NT 10.0; Win64; x64) AppleWebKit/537.36 (KHTML, like Gecko) Chrome/103.0.0.0 Safari/537.36\"}\n",
    "\n",
    "    page=requests.get(URL, headers=headers)\n",
    "\n",
    "    soup1=BeautifulSoup(page.content,'html.parser')\n",
    "    soup2=BeautifulSoup(soup1.prettify(),'html.parser')\n",
    "\n",
    "    title=soup2.find(id=\"productTitle\").get_text()\n",
    "    price=soup2.find(class_='a-price-whole').get_text()\n",
    "\n",
    "    title=title.strip()\n",
    "    price=price.strip()[0:6]\n",
    "    \n",
    "    import datetime\n",
    "    today=datetime.date.today()\n",
    "    print(today)\n",
    "   \n",
    "    import csv\n",
    "\n",
    "    header=['Title','Price','Date']\n",
    "    data=[title,price,today]\n",
    "    \n",
    "    with open('Amazon_Webscrapper.csv','a+',newline='',encoding='UTF8') as f:\n",
    "        writer=csv.writer(f)\n",
    "        writer.writerow(data)\n",
    "    if(price<14):\n",
    "        send_mail()\n",
    "        "
   ]
  },
  {
   "cell_type": "code",
   "execution_count": null,
   "id": "2c491c2b-6e35-4219-99c9-d09debfb3611",
   "metadata": {},
   "outputs": [],
   "source": [
    "while(True):\n",
    "    check_price()\n",
    "    time.sleep(1)"
   ]
  },
  {
   "cell_type": "code",
   "execution_count": 39,
   "id": "3e47114f-3263-40d6-9d12-52366f75648d",
   "metadata": {},
   "outputs": [
    {
     "name": "stdout",
     "output_type": "stream",
     "text": [
      "                                               Title  Price        Date\n",
      "0  Drill Brush 3 Ways Multifunction Power Brush C...     17  2022-07-13\n",
      "1  Drill Brush 3 Ways Multifunction Power Brush C...     17  2022-07-13\n",
      "2  Drill Brush 3 Ways Multifunction Power Brush C...     17  2022-07-13\n",
      "3  Drill Brush 3 Ways Multifunction Power Brush C...     17  2022-07-13\n",
      "4  Drill Brush 3 Ways Multifunction Power Brush C...     17  2022-07-13\n",
      "5  Drill Brush 3 Ways Multifunction Power Brush C...     17  2022-07-13\n",
      "6  Drill Brush 3 Ways Multifunction Power Brush C...     17  2022-07-13\n",
      "7  Drill Brush 3 Ways Multifunction Power Brush C...     17  2022-07-13\n"
     ]
    }
   ],
   "source": [
    "import pandas as pd\n",
    "df=pd.read_csv(r'C:\\Users\\sanja\\Amazon_Webscrapper.csv')\n",
    "print(df)"
   ]
  },
  {
   "cell_type": "code",
   "execution_count": 1,
   "id": "714e3d48-f0ef-41ef-8cfe-0ab2edffac9a",
   "metadata": {},
   "outputs": [],
   "source": [
    "def send_mail():\n",
    "    server = smtplib.SMTP_SSL('smtp.gmail.com',465)\n",
    "    server.ehlo()\n",
    "    #server.starttls()\n",
    "    server.ehlo()\n",
    "    server.login('AlexTheAnalyst95@gmail.com','xxxxxxxxxxxxxx')\n",
    "    \n",
    "    subject = \"The Shirt you want is below $15! Now is your chance to buy!\"\n",
    "    body = \"Alex, This is the moment we have been waiting for. Now is your chance to pick up the shirt of your dreams. Don't mess it up! Link here: https://www.amazon.com/Funny-Data-Systems-Business-Analyst/dp/B07FNW9FGJ/ref=sr_1_3?dchild=1&keywords=data+analyst+tshirt&qid=1626655184&sr=8-3\"\n",
    "   \n",
    "    msg = f\"Subject: {subject}\\n\\n{body}\"\n",
    "    \n",
    "    server.sendmail(\n",
    "        'AlexTheAnalyst95@gmail.com',\n",
    "        msg\n",
    "     \n",
    "    )"
   ]
  },
  {
   "cell_type": "markdown",
   "id": "7a1c5a6f-c175-4bd5-90c1-f4d23a77fece",
   "metadata": {},
   "source": []
  },
  {
   "cell_type": "code",
   "execution_count": null,
   "id": "4214c34d-c7eb-40a2-a981-040e1aa6088f",
   "metadata": {},
   "outputs": [],
   "source": []
  }
 ],
 "metadata": {
  "kernelspec": {
   "display_name": "Python 3 (ipykernel)",
   "language": "python",
   "name": "python3"
  },
  "language_info": {
   "codemirror_mode": {
    "name": "ipython",
    "version": 3
   },
   "file_extension": ".py",
   "mimetype": "text/x-python",
   "name": "python",
   "nbconvert_exporter": "python",
   "pygments_lexer": "ipython3",
   "version": "3.10.4"
  }
 },
 "nbformat": 4,
 "nbformat_minor": 5
}
